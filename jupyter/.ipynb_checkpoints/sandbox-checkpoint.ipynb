{
 "cells": [
  {
   "cell_type": "code",
   "execution_count": 6,
   "id": "c74071a7-2848-453b-a4e3-c7ea2e8d54ae",
   "metadata": {},
   "outputs": [],
   "source": [
    "import os\n",
    "import pydicom\n",
    "import rpc3dl\n",
    "\n",
    "from rpc3dl.files._dicom_util import hierarchy"
   ]
  },
  {
   "cell_type": "code",
   "execution_count": 2,
   "id": "222b1908-1fb3-4ce0-aa24-952f216960ea",
   "metadata": {},
   "outputs": [],
   "source": [
    "root = r\"D:\\testfolder\\sample\"\n",
    "filepaths = [os.path.join(root,file) for file in os.listdir(root)]\n",
    "dcms = [pydicom.dcmread(path) for path in filepaths]"
   ]
  },
  {
   "cell_type": "code",
   "execution_count": 11,
   "id": "2fa6106f-ff4c-44b1-bb81-2d5772b74ede",
   "metadata": {},
   "outputs": [],
   "source": [
    "x = hierarchy(dcms,level='modality')"
   ]
  },
  {
   "cell_type": "code",
   "execution_count": 12,
   "id": "ab4a2894-9dcb-4446-a155-9ac69a716586",
   "metadata": {},
   "outputs": [
    {
     "data": {
      "text/plain": [
       "dict_keys(['CT', 'RTDOSE', 'RTPLAN', 'RTSTRUCT'])"
      ]
     },
     "execution_count": 12,
     "metadata": {},
     "output_type": "execute_result"
    }
   ],
   "source": [
    "x.keys()"
   ]
  },
  {
   "cell_type": "code",
   "execution_count": 14,
   "id": "1bd20bfc-1d38-4c04-ac9f-9eb4c7f0e8aa",
   "metadata": {},
   "outputs": [
    {
     "name": "stdout",
     "output_type": "stream",
     "text": [
      "['1.2.246.352.221.63034041368016423048874865092487846863676518', '1.2.246.352.221.23038576198201713591532161564551901442426364']\n"
     ]
    }
   ],
   "source": [
    "series = []\n",
    "for file in x['CT']:\n",
    "    series.append(file.SeriesInstanceUID)\n",
    "series = list(set(series))\n",
    "print(series)"
   ]
  },
  {
   "cell_type": "code",
   "execution_count": 18,
   "id": "566c34be-1f31-4897-a2aa-47da842823dc",
   "metadata": {},
   "outputs": [],
   "source": [
    "plan = x['RTPLAN'][0]"
   ]
  },
  {
   "cell_type": "code",
   "execution_count": 22,
   "id": "54974a39-a756-47fe-b00c-72a65696fc09",
   "metadata": {},
   "outputs": [
    {
     "data": {
      "text/plain": [
       "(0008, 1150) Referenced SOP Class UID            UI: RT Structure Set Storage\n",
       "(0008, 1155) Referenced SOP Instance UID         UI: 1.2.246.352.221.33873966504419784554211440933149195819099939"
      ]
     },
     "execution_count": 22,
     "metadata": {},
     "output_type": "execute_result"
    }
   ],
   "source": [
    "plan.ReferencedStructureSetSequence[0]"
   ]
  },
  {
   "cell_type": "code",
   "execution_count": 23,
   "id": "27d4ced9-2277-4553-b2fd-3bef6d7adcc9",
   "metadata": {},
   "outputs": [],
   "source": [
    "dose = x['RTDOSE'][0]"
   ]
  },
  {
   "cell_type": "code",
   "execution_count": 37,
   "id": "1c8ccb23-5820-4551-9608-838682b5c187",
   "metadata": {},
   "outputs": [],
   "source": [
    "for ss in x['RTSTRUCT']:\n",
    "    if ss.SOPInstanceUID == plan.ReferencedStructureSetSequence[0].ReferencedSOPInstanceUID:\n",
    "        break"
   ]
  },
  {
   "cell_type": "code",
   "execution_count": 40,
   "id": "ccb9f69e-0c12-4845-9ae0-2fba7bcfc675",
   "metadata": {},
   "outputs": [
    {
     "data": {
      "text/plain": [
       "'1.2.246.352.221.63034041368016423048874865092487846863676518'"
      ]
     },
     "execution_count": 40,
     "metadata": {},
     "output_type": "execute_result"
    }
   ],
   "source": [
    "ss.ReferencedFrameOfReferenceSequence[0].RTReferencedStudySequence[0].RTReferencedSeriesSequence[0].SeriesInstanceUID"
   ]
  },
  {
   "cell_type": "code",
   "execution_count": 41,
   "id": "80ea7b2b-1a4a-44fc-9050-80818da54c77",
   "metadata": {},
   "outputs": [],
   "source": [
    "def filter_files(dcms):\n",
    "    # check to ensure only one study\n",
    "    check = hierarchy(dcms,level='study')\n",
    "    assert len(list(check.keys())) == 1\n",
    "    \n",
    "    modsort = hierarchy(dcms,level='modality')\n",
    "    # first we get our plan file - if only one, we accept\n",
    "    # if more than one, look for approved status\n",
    "    if len(modsort['RTPLAN']) == 1:\n",
    "        plan = modsort['RTPLAN'][0]\n",
    "    else:\n",
    "        plan = None\n",
    "        for planfile in modsort['RTPLAN']:\n",
    "            if planfile.ApprovalStatus == 'APPROVED':\n",
    "                plan = planfile\n",
    "                break\n",
    "        assert plan is not None\n",
    "    \n",
    "    refUID = plan.ReferencedStructureSetSequence[0].ReferencedSOPInstanceUID\n",
    "    ss = None\n",
    "    for ssfile in modsort['RTSTRUCT']:\n",
    "        if ssfile.SOPInstanceUID == refUID:\n",
    "            ss = ssfile\n",
    "            break\n",
    "    imgrefUID = ss.ReferencedFrameOfReferenceSequence[0].RTReferencedStudySequence[0].RTReferencedSeriesSequence[0].SeriesInstanceUID\n",
    "    keep_cts = []\n",
    "    for ct in modsort['CT']:\n",
    "        if ct.SeriesInstanceUID == imgrefUID:\n",
    "            keep_cts.append(ct)\n",
    "    # provision for the sometimes failure to transfer dose files from MIM\n",
    "    if 'RTDOSE' not in modsort.keys():\n",
    "        dosefiles = []\n",
    "    else:\n",
    "        dosefiles = modsort['RTDOSE']\n",
    "    \n",
    "    allfiles = [plan] + [ss] + keep_cts + dosefiles\n",
    "    return allfiles\n",
    "            "
   ]
  },
  {
   "cell_type": "code",
   "execution_count": 42,
   "id": "60820b23-5f1e-4687-b891-1c95c9ae44b9",
   "metadata": {},
   "outputs": [
    {
     "data": {
      "text/plain": [
       "408"
      ]
     },
     "execution_count": 42,
     "metadata": {},
     "output_type": "execute_result"
    }
   ],
   "source": [
    "len(dcms)"
   ]
  },
  {
   "cell_type": "code",
   "execution_count": 43,
   "id": "fcb79283-d065-423a-88c9-29c4ef753568",
   "metadata": {},
   "outputs": [
    {
     "name": "stdout",
     "output_type": "stream",
     "text": [
      "204\n"
     ]
    }
   ],
   "source": [
    "filtered = filter_files(dcms)\n",
    "print(len(filtered))"
   ]
  },
  {
   "cell_type": "code",
   "execution_count": null,
   "id": "4cd814ef-4799-407e-818c-0081a712863e",
   "metadata": {},
   "outputs": [],
   "source": []
  }
 ],
 "metadata": {
  "kernelspec": {
   "display_name": "Python 3 (ipykernel)",
   "language": "python",
   "name": "python3"
  },
  "language_info": {
   "codemirror_mode": {
    "name": "ipython",
    "version": 3
   },
   "file_extension": ".py",
   "mimetype": "text/x-python",
   "name": "python",
   "nbconvert_exporter": "python",
   "pygments_lexer": "ipython3",
   "version": "3.7.15"
  }
 },
 "nbformat": 4,
 "nbformat_minor": 5
}
