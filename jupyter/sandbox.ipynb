{
 "cells": [
  {
   "cell_type": "code",
   "execution_count": null,
   "id": "c74071a7-2848-453b-a4e3-c7ea2e8d54ae",
   "metadata": {},
   "outputs": [],
   "source": [
    "import os\n",
    "import pydicom\n",
    "import rpc3dl\n",
    "\n",
    "from rpc3dl.files._dicom_util import hierarchy"
   ]
  },
  {
   "cell_type": "code",
   "execution_count": null,
   "id": "222b1908-1fb3-4ce0-aa24-952f216960ea",
   "metadata": {},
   "outputs": [],
   "source": [
    "root = r\"D:\\testfolder\\sample\"\n",
    "filepaths = [os.path.join(root,file) for file in os.listdir(root)]\n",
    "dcms = [pydicom.dcmread(path) for path in filepaths]"
   ]
  },
  {
   "cell_type": "code",
   "execution_count": null,
   "id": "2fa6106f-ff4c-44b1-bb81-2d5772b74ede",
   "metadata": {},
   "outputs": [],
   "source": [
    "x = hierarchy(dcms,level='modality')"
   ]
  },
  {
   "cell_type": "code",
   "execution_count": null,
   "id": "ab4a2894-9dcb-4446-a155-9ac69a716586",
   "metadata": {},
   "outputs": [],
   "source": [
    "x.keys()"
   ]
  },
  {
   "cell_type": "code",
   "execution_count": null,
   "id": "1bd20bfc-1d38-4c04-ac9f-9eb4c7f0e8aa",
   "metadata": {},
   "outputs": [],
   "source": [
    "series = []\n",
    "for file in x['CT']:\n",
    "    series.append(file.SeriesInstanceUID)\n",
    "series = list(set(series))\n",
    "print(series)"
   ]
  },
  {
   "cell_type": "code",
   "execution_count": null,
   "id": "566c34be-1f31-4897-a2aa-47da842823dc",
   "metadata": {},
   "outputs": [],
   "source": [
    "plan = x['RTPLAN'][0]"
   ]
  },
  {
   "cell_type": "code",
   "execution_count": null,
   "id": "54974a39-a756-47fe-b00c-72a65696fc09",
   "metadata": {},
   "outputs": [],
   "source": [
    "plan.ReferencedStructureSetSequence[0]"
   ]
  },
  {
   "cell_type": "code",
   "execution_count": null,
   "id": "27d4ced9-2277-4553-b2fd-3bef6d7adcc9",
   "metadata": {},
   "outputs": [],
   "source": [
    "dose = x['RTDOSE'][0]"
   ]
  },
  {
   "cell_type": "code",
   "execution_count": null,
   "id": "1c8ccb23-5820-4551-9608-838682b5c187",
   "metadata": {},
   "outputs": [],
   "source": [
    "for ss in x['RTSTRUCT']:\n",
    "    if ss.SOPInstanceUID == plan.ReferencedStructureSetSequence[0].ReferencedSOPInstanceUID:\n",
    "        break"
   ]
  },
  {
   "cell_type": "code",
   "execution_count": null,
   "id": "ccb9f69e-0c12-4845-9ae0-2fba7bcfc675",
   "metadata": {},
   "outputs": [],
   "source": [
    "ss.ReferencedFrameOfReferenceSequence[0].RTReferencedStudySequence[0].RTReferencedSeriesSequence[0].SeriesInstanceUID"
   ]
  },
  {
   "cell_type": "code",
   "execution_count": null,
   "id": "80ea7b2b-1a4a-44fc-9050-80818da54c77",
   "metadata": {},
   "outputs": [],
   "source": [
    "def filter_dcms(dcms):\n",
    "    # check to ensure only one study\n",
    "    check = hierarchy(dcms,level='study')\n",
    "    assert len(list(check.keys())) == 1\n",
    "    \n",
    "    modsort = hierarchy(dcms,level='modality')\n",
    "    # first we get our plan file - if only one, we accept\n",
    "    # if more than one, look for approved status\n",
    "    if len(modsort['RTPLAN']) == 1:\n",
    "        plan = modsort['RTPLAN'][0]\n",
    "    else:\n",
    "        plan = None\n",
    "        for planfile in modsort['RTPLAN']:\n",
    "            if planfile.ApprovalStatus == 'APPROVED':\n",
    "                plan = planfile\n",
    "                break\n",
    "        assert plan is not None\n",
    "    \n",
    "    refUID = plan.ReferencedStructureSetSequence[0].ReferencedSOPInstanceUID\n",
    "    ss = None\n",
    "    for ssfile in modsort['RTSTRUCT']:\n",
    "        if ssfile.SOPInstanceUID == refUID:\n",
    "            ss = ssfile\n",
    "            break\n",
    "    imgrefUID = ss.ReferencedFrameOfReferenceSequence[0].RTReferencedStudySequence[0].RTReferencedSeriesSequence[0].SeriesInstanceUID\n",
    "    keep_cts = []\n",
    "    for ct in modsort['CT']:\n",
    "        if ct.SeriesInstanceUID == imgrefUID:\n",
    "            keep_cts.append(ct)\n",
    "    # provision for the sometimes failure to transfer dose files from MIM\n",
    "    if 'RTDOSE' not in modsort.keys():\n",
    "        dosefiles = []\n",
    "    else:\n",
    "        dosefiles = modsort['RTDOSE']\n",
    "    \n",
    "    allfiles = [plan] + [ss] + keep_cts + dosefiles\n",
    "    return allfiles\n",
    "            "
   ]
  },
  {
   "cell_type": "code",
   "execution_count": null,
   "id": "60820b23-5f1e-4687-b891-1c95c9ae44b9",
   "metadata": {},
   "outputs": [],
   "source": [
    "len(dcms)"
   ]
  },
  {
   "cell_type": "code",
   "execution_count": null,
   "id": "fcb79283-d065-423a-88c9-29c4ef753568",
   "metadata": {},
   "outputs": [],
   "source": [
    "filtered = filter_files(dcms)\n",
    "print(len(filtered))"
   ]
  },
  {
   "cell_type": "code",
   "execution_count": null,
   "id": "4cd814ef-4799-407e-818c-0081a712863e",
   "metadata": {},
   "outputs": [],
   "source": [
    "destdir = r\"D:/testfolder/filtered\"\n",
    "mapper = {\n",
    "    \"CT\" : \"CT\",\n",
    "    \"RTSTRUCT\" : \"RS\",\n",
    "    \"RTDOSE\" : \"RD\",\n",
    "    \"RTPLAN\" : \"RP\"\n",
    "    }\n",
    "    \n",
    "for i,file in enumerate(filtered):\n",
    "    modality = mapper[str(file.Modality)]\n",
    "    ptid = str(file.PatientID)\n",
    "    file.save_as(os.path.join(destdir,\"{}_{}_{}.dcm\".format(modality,ptid,i)))"
   ]
  },
  {
   "cell_type": "code",
   "execution_count": null,
   "id": "63a06a1a-2d42-477a-99fc-62b7ec73fd46",
   "metadata": {},
   "outputs": [],
   "source": [
    "dose = x['RTDOSE'][0]"
   ]
  },
  {
   "cell_type": "code",
   "execution_count": null,
   "id": "55cf0e2d-15ad-4266-80f0-b9d85163fd58",
   "metadata": {},
   "outputs": [],
   "source": [
    "ct = filtered[30]"
   ]
  },
  {
   "cell_type": "code",
   "execution_count": null,
   "id": "b27172be-db8e-4b5c-abfe-5d4cccbe184f",
   "metadata": {},
   "outputs": [],
   "source": [
    "import matplotlib.pyplot as plt"
   ]
  },
  {
   "cell_type": "code",
   "execution_count": 1,
   "id": "a1e6cfb9-9c4f-4012-ac5c-62ee63dfc7fe",
   "metadata": {},
   "outputs": [],
   "source": [
    "import h5py"
   ]
  },
  {
   "cell_type": "code",
   "execution_count": 7,
   "id": "5542bfd5-fce7-4f5a-b108-eba1828ea21c",
   "metadata": {},
   "outputs": [
    {
     "name": "stdout",
     "output_type": "stream",
     "text": [
      "<KeysViewHDF5 ['augment_1', 'augment_2', 'base', 'pt_chars']>\n"
     ]
    }
   ],
   "source": [
    "with h5py.File(r\"D:/testfolder/test.h5\",\"r\") as f:\n",
    "    print(f.keys())"
   ]
  },
  {
   "cell_type": "code",
   "execution_count": 10,
   "id": "241d6cef-c61a-4ed4-a6ad-985f8bb6d470",
   "metadata": {},
   "outputs": [
    {
     "name": "stdout",
     "output_type": "stream",
     "text": [
      "<KeysViewHDF5 ['label']>\n",
      "label 12\n"
     ]
    }
   ],
   "source": [
    "def get_dataset():\n",
    "    f2 = h5py.File(r\"D:/testfolder/test.h5\", 'r')\n",
    "    print(f2.attrs.keys())\n",
    "    print('label',f2.attrs['label'])\n",
    "    return f2['base'], f2['pt_chars']\n",
    "ds, pc = get_dataset()"
   ]
  },
  {
   "cell_type": "code",
   "execution_count": 12,
   "id": "4529e1ec-52f6-4323-8a3d-502f47f4a045",
   "metadata": {},
   "outputs": [
    {
     "data": {
      "text/plain": [
       "array([  1,   2,   3,   4, 789])"
      ]
     },
     "execution_count": 12,
     "metadata": {},
     "output_type": "execute_result"
    }
   ],
   "source": [
    "pc[...]"
   ]
  },
  {
   "cell_type": "code",
   "execution_count": null,
   "id": "031303ca-2b05-443e-9c64-54025b9c004b",
   "metadata": {},
   "outputs": [],
   "source": [
    "plt.imshow(ds[20,:,:,2],cmap='gray')"
   ]
  },
  {
   "cell_type": "code",
   "execution_count": 3,
   "id": "d092291b-1b3f-4d1d-afe6-fabcbf65bf14",
   "metadata": {},
   "outputs": [],
   "source": [
    "import numpy as np"
   ]
  },
  {
   "cell_type": "code",
   "execution_count": 9,
   "id": "ec866d3d-ddcd-474e-9572-e7029f2d7cda",
   "metadata": {},
   "outputs": [],
   "source": [
    "with h5py.File(r\"D:/testfolder/test.h5\",\"a\") as f:\n",
    "    if 'pt_chars' in f.keys():\n",
    "        del f['pt_chars']\n",
    "    f.create_dataset('pt_chars',data=np.array([1,2,3,4,789]))\n",
    "    f.close()"
   ]
  },
  {
   "cell_type": "code",
   "execution_count": 14,
   "id": "750a2154-7a26-4eed-81ae-f9f773e1cb36",
   "metadata": {},
   "outputs": [],
   "source": [
    "import h5py\n",
    "import numpy as np"
   ]
  },
  {
   "cell_type": "code",
   "execution_count": 15,
   "id": "2c26edcf-97ca-4ff5-9607-2f2f11e06e08",
   "metadata": {},
   "outputs": [],
   "source": [
    "with h5py.File(\"test.h5\",\"w\") as f:\n",
    "    f.create_dataset(\"base\",data=np.ones((40,128,128,3)))\n",
    "    lblgrp = f.create_group(\"labels\")\n",
    "    lblgrp.attrs['early'] = 1\n",
    "    lblgrp.attrs['late'] = 0\n",
    "    lblgrp.attrs['all'] = 1\n",
    "    lblgrp.attrs['desc'] = 'sticky_saliva>=3,dry_mouth>=3'"
   ]
  },
  {
   "cell_type": "code",
   "execution_count": 19,
   "id": "b26ae9db-aaf1-4fbd-b69f-a59bb010784a",
   "metadata": {},
   "outputs": [
    {
     "name": "stdout",
     "output_type": "stream",
     "text": [
      "True\n"
     ]
    }
   ],
   "source": [
    "with h5py.File(\"test.h5\",\"r\") as f:\n",
    "    print('labels' in f.keys())"
   ]
  },
  {
   "cell_type": "code",
   "execution_count": null,
   "id": "dc0e2618-cf3c-436e-b2b4-335fe9b40547",
   "metadata": {},
   "outputs": [],
   "source": []
  }
 ],
 "metadata": {
  "kernelspec": {
   "display_name": "Python 3 (ipykernel)",
   "language": "python",
   "name": "python3"
  },
  "language_info": {
   "codemirror_mode": {
    "name": "ipython",
    "version": 3
   },
   "file_extension": ".py",
   "mimetype": "text/x-python",
   "name": "python",
   "nbconvert_exporter": "python",
   "pygments_lexer": "ipython3",
   "version": "3.7.15"
  }
 },
 "nbformat": 4,
 "nbformat_minor": 5
}
